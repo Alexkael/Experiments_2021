{
 "cells": [
  {
   "cell_type": "code",
   "execution_count": 10,
   "metadata": {},
   "outputs": [
    {
     "name": "stderr",
     "output_type": "stream",
     "text": [
      "/LOCAL/gjin/anaconda3/lib/python3.7/site-packages/ipykernel_launcher.py:17: RuntimeWarning: invalid value encountered in float_scalars\n",
      "/LOCAL/gjin/anaconda3/lib/python3.7/site-packages/numpy/linalg/linalg.py:2116: RuntimeWarning: invalid value encountered in det\n",
      "  r = _umath_linalg.det(a, signature=signature)\n"
     ]
    },
    {
     "name": "stdout",
     "output_type": "stream",
     "text": [
      "348\n",
      "0.14907175114389154\n"
     ]
    }
   ],
   "source": [
    "import numpy as np\n",
    "def load(fname):\n",
    "    z = []\n",
    "    for epoch in range(1,51):\n",
    "        w = np.load(fname+'/w_sample_'+str(epoch)+'.npy',allow_pickle=True)[1]\n",
    "        z.append(w)\n",
    "\n",
    "    z = np.array(z)\n",
    "\n",
    "    zz = np.transpose(z, (1,2,4,3,0))\n",
    "    zz = zz.reshape((zz.shape[0]*zz.shape[1]*zz.shape[2],zz.shape[3],-1))\n",
    "    return zz\n",
    "\n",
    "def converiance(x,y):\n",
    "    x -= np.mean(x)\n",
    "    y -= np.mean(y)\n",
    "    z = (np.mean(x*y))/(np.sqrt(np.mean(x*x)*np.mean(y*y)))\n",
    "    if z==float('Inf') or z==-float('Inf'):\n",
    "        return 1\n",
    "    else:\n",
    "        return z\n",
    "\n",
    "split = 4    \n",
    "fname = 'vgg11_0.0001'\n",
    "zz = load(fname) \n",
    "det = []\n",
    "for zzz in zz[:400]:\n",
    "    deet = 0\n",
    "    for i in range(int(len(zzz)/split)):\n",
    "        corr = np.ones((split,split))\n",
    "        for x in range(split):\n",
    "            for y in range(split):\n",
    "                if x!=y:\n",
    "                    corr[x][y]=converiance(zzz[x+i*split],zzz[y+i*split])\n",
    "        deet += np.linalg.det(corr)\n",
    "    if not np.isnan(deet):\n",
    "        det.append(deet*split/len(zzz))\n",
    "\n",
    "det = np.array(det)\n",
    "print(len(det))\n",
    "print(np.mean(det))"
   ]
  },
  {
   "cell_type": "code",
   "execution_count": null,
   "metadata": {},
   "outputs": [],
   "source": [
    "#vgg11 0.0001\n",
    "0.14907175114389154 \n",
    "0.17781742144344162\n",
    "\n",
    "#vgg16 0.0001\n",
    "0.11239488712557313\n",
    "0.14079691140687728   \n",
    "\n",
    "#vgg19 0.0001\n",
    "0.02399243342788906\n",
    "0.12393743286018989\n"
   ]
  },
  {
   "cell_type": "code",
   "execution_count": null,
   "metadata": {},
   "outputs": [],
   "source": []
  },
  {
   "cell_type": "code",
   "execution_count": null,
   "metadata": {},
   "outputs": [],
   "source": []
  }
 ],
 "metadata": {
  "kernelspec": {
   "display_name": "Python 3",
   "language": "python",
   "name": "python3"
  },
  "language_info": {
   "codemirror_mode": {
    "name": "ipython",
    "version": 3
   },
   "file_extension": ".py",
   "mimetype": "text/x-python",
   "name": "python",
   "nbconvert_exporter": "python",
   "pygments_lexer": "ipython3",
   "version": "3.7.6"
  }
 },
 "nbformat": 4,
 "nbformat_minor": 4
}
